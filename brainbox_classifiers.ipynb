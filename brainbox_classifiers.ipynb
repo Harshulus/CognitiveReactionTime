{
 "cells": [
  {
   "cell_type": "markdown",
   "metadata": {},
   "source": [
    "SVM"
   ]
  },
  {
   "cell_type": "code",
   "execution_count": 2,
   "metadata": {},
   "outputs": [
    {
     "name": "stdout",
     "output_type": "stream",
     "text": [
      "----- Sample case -----\n",
      "max         567.934405\n",
      "min         439.017425\n",
      "max_pos    1260.000000\n",
      "min_pos    8308.000000\n",
      "sd           28.820889\n",
      "Name: 155, dtype: float64\n",
      "Predicted class: L\n",
      "Actual class: D\n",
      "-----------------------\n",
      "Calculate the accuracy using the test data\n",
      "Accuracy: 0.42105263157894735\n"
     ]
    }
   ],
   "source": [
    "import pandas as pd\n",
    "from sklearn import metrics\n",
    "from sklearn import svm\n",
    "from sklearn.model_selection import train_test_split\n",
    "\n",
    "df = pd.read_csv('features.csv')\n",
    "column_names = list(df.columns)\n",
    "input_names = column_names[0:len(column_names)-1]\n",
    "target_name = column_names[len(column_names)-1]\n",
    "X = df[input_names]   # slice dataFrame to extract input variables\n",
    "y = df[target_name]   # slice dataFrame to extract target variable\n",
    "X_train, X_test, y_train, y_test = train_test_split(X, y, test_size=0.3, random_state=123)\n",
    "clf = svm.SVC().fit(X_train, y_train)\n",
    "\n",
    "y_pred = clf.predict(X_test)\n",
    "# Let's examine one sample and the corresponding predictions\n",
    "print('----- Sample case -----')\n",
    "last_sample = X_test.loc[list(X_test.index)[-1]]\n",
    "print(last_sample)\n",
    "print('Predicted class:',y_pred[-1])\n",
    "print('Actual class:', y_test.loc[list(y_test.index)[-1]])\n",
    "print('-----------------------')\n",
    "\n",
    "\n",
    "print('Calculate the accuracy using the test data')\n",
    "print(\"Accuracy:\", metrics.accuracy_score(y_test, y_pred))\n",
    "\n",
    "# Cross Validation"
   ]
  },
  {
   "cell_type": "code",
   "execution_count": 7,
   "metadata": {},
   "outputs": [
    {
     "name": "stdout",
     "output_type": "stream",
     "text": [
      "SVM\n",
      "SVM Accuracy: 0.608\n"
     ]
    },
    {
     "data": {
      "text/plain": [
       "Text(0, 0.5, 'Accuracy')"
      ]
     },
     "execution_count": 7,
     "metadata": {},
     "output_type": "execute_result"
    },
    {
     "data": {
      "image/png": "[encoded data removed]",
      "text/plain": [
       "<Figure size 432x288 with 1 Axes>"
      ]
     },
     "metadata": {
      "needs_background": "light"
     },
     "output_type": "display_data"
    }
   ],
   "source": [
    "\"\"\"References\n",
    "https://machinelearningmastery.com/repeated-k-fold-cross-validation-with-python/\n",
    "\"\"\"\n",
    "\n",
    "import pandas as pd\n",
    "\n",
    "from numpy import mean\n",
    "from numpy import std\n",
    "\n",
    "from sklearn import metrics\n",
    "from sklearn import svm\n",
    "from sklearn.model_selection import train_test_split\n",
    "from sklearn.model_selection import RepeatedKFold\n",
    "from sklearn.model_selection import cross_val_score\n",
    "\n",
    "import matplotlib.pyplot as plt\n",
    "\n",
    "import pickle\n",
    "\n",
    "# SVM\n",
    "df = pd.read_csv('event.csv')\n",
    "column_names = list(df.columns)\n",
    "input_names = column_names[0:len(column_names)-1]\n",
    "target_name = column_names[len(column_names)-1]\n",
    "X = df[input_names]   # slice dataFrame to extract input variables\n",
    "y = df[target_name]   # slice dataFrame to extract target variable\n",
    "\n",
    "model = svm.SVC().fit(X, y)\n",
    "# save the model to disk\n",
    "filename = 'svm.sav'\n",
    "pickle.dump(model, open(filename, 'wb'))\n",
    "\n",
    "print('SVM')\n",
    "\n",
    "# Repeated 5-Fold Cross Validation\n",
    "# cv = RepeatedKFold(n_splits=10, n_repeats=3, random_state=1)\n",
    "repeated_cv = RepeatedKFold(n_splits=5, n_repeats=50, random_state=123)\n",
    "scores = cross_val_score(model, X, y, scoring='accuracy', cv=repeated_cv, n_jobs=-1)\n",
    "print(\"SVM Accuracy: {:.3f}\".format(mean(scores)))\n",
    "\n",
    "plt.boxplot(scores)\n",
    "plt.title(\"SVM Accuracy\")\n",
    "plt.xlabel(\"SVM\")\n",
    "plt.ylabel(\"Accuracy\")"
   ]
  },
  {
   "cell_type": "markdown",
   "metadata": {},
   "source": [
    "KNN"
   ]
  },
  {
   "cell_type": "code",
   "execution_count": 3,
   "metadata": {},
   "outputs": [
    {
     "name": "stdout",
     "output_type": "stream",
     "text": [
      "----- Sample case -----\n",
      "1        515.358229\n",
      "2        515.294117\n",
      "3        515.229540\n",
      "4        515.164553\n",
      "5        515.099214\n",
      "            ...    \n",
      "14997    509.152414\n",
      "14998    510.176991\n",
      "14999    509.198992\n",
      "15000    509.218351\n",
      "15001    509.235005\n",
      "Name: 155, Length: 15001, dtype: float64\n",
      "Predicted class: L\n",
      "Actual class: D\n",
      "-----------------------\n",
      "Calculate the accuracy using the test data\n",
      "Accuracy: 0.5789473684210527\n"
     ]
    }
   ],
   "source": [
    "import pandas as pd\n",
    "from sklearn import metrics\n",
    "from sklearn import neighbors\n",
    "from sklearn.model_selection import train_test_split\n",
    "\n",
    "df = pd.read_csv('event.csv')\n",
    "column_names = list(df.columns)\n",
    "input_names = column_names[0:len(column_names)-1]\n",
    "target_name = column_names[len(column_names)-1]\n",
    "X = df[input_names]   # slice dataFrame to extract input variables\n",
    "y = df[target_name]   # slice dataFrame to extract target variable\n",
    "X_train, X_test, y_train, y_test = train_test_split(X, y, test_size=0.3, random_state=123)\n",
    "clf = neighbors.KNeighborsClassifier(5).fit(X_train, y_train)\n",
    "\n",
    "y_pred = clf.predict(X_test)\n",
    "# Let's examine one sample and the corresponding predictions\n",
    "print('----- Sample case -----')\n",
    "last_sample = X_test.loc[list(X_test.index)[-1]]\n",
    "print(last_sample)\n",
    "print('Predicted class:',y_pred[-1])\n",
    "print('Actual class:', y_test.loc[list(y_test.index)[-1]])\n",
    "print('-----------------------')\n",
    "\n",
    "print('Calculate the accuracy using the test data')\n",
    "print(\"Accuracy:\", metrics.accuracy_score(y_test, y_pred))\n",
    "\n",
    "# Cross Validation"
   ]
  },
  {
   "cell_type": "code",
   "execution_count": 6,
   "metadata": {},
   "outputs": [
    {
     "name": "stdout",
     "output_type": "stream",
     "text": [
      "KNN Accuracy: 0.414\n"
     ]
    },
    {
     "data": {
      "text/plain": [
       "Text(0, 0.5, 'Accuracy')"
      ]
     },
     "execution_count": 6,
     "metadata": {},
     "output_type": "execute_result"
    },
    {
     "data": {
      "image/png": "[encoded data removed]",
      "text/plain": [
       "<Figure size 432x288 with 1 Axes>"
      ]
     },
     "metadata": {
      "needs_background": "light"
     },
     "output_type": "display_data"
    }
   ],
   "source": [
    "import pandas as pd\n",
    "\n",
    "from numpy import mean\n",
    "from numpy import std\n",
    "\n",
    "from sklearn import metrics\n",
    "from sklearn import neighbors\n",
    "\n",
    "import matplotlib.pyplot as plt\n",
    "\n",
    "df = pd.read_csv('event.csv')\n",
    "column_names = list(df.columns)\n",
    "input_names = column_names[0:len(column_names)-1]\n",
    "target_name = column_names[len(column_names)-1]\n",
    "X = df[input_names]   # slice dataFrame to extract input variables\n",
    "y = df[target_name]   # slice dataFrame to extract target variable\n",
    "model = neighbors.KNeighborsClassifier(3).fit(X, y)\n",
    "\n",
    "# Repeated 5-Fold Cross Validation\n",
    "repeated_cv = RepeatedKFold(n_splits=5, n_repeats=50, random_state=123)\n",
    "scores = cross_val_score(model, X, y, scoring='accuracy', cv=repeated_cv, n_jobs=-1)\n",
    "print(\"KNN Accuracy: {:.3f}\".format(mean(scores)))\n",
    "\n",
    "plt.boxplot(scores)\n",
    "plt.title(\"KNN Accuracy\")\n",
    "plt.xlabel(\"KNN\")\n",
    "plt.ylabel(\"Accuracy\")"
   ]
  },
  {
   "cell_type": "markdown",
   "metadata": {},
   "source": [
    "MLP"
   ]
  },
  {
   "cell_type": "code",
   "execution_count": 10,
   "metadata": {},
   "outputs": [
    {
     "name": "stdout",
     "output_type": "stream",
     "text": [
      "----- Sample case -----\n",
      "1        515.358229\n",
      "2        515.294117\n",
      "3        515.229540\n",
      "4        515.164553\n",
      "5        515.099214\n",
      "            ...    \n",
      "14997    509.152414\n",
      "14998    510.176991\n",
      "14999    509.198992\n",
      "15000    509.218351\n",
      "15001    509.235005\n",
      "Name: 155, Length: 15001, dtype: float64\n",
      "Predicted class: U\n",
      "Actual class: D\n",
      "-----------------------\n",
      "Calculate the accuracy using the test data\n",
      "Accuracy: 0.19298245614035087\n"
     ]
    }
   ],
   "source": [
    "import pandas as pd\n",
    "from sklearn import metrics\n",
    "from sklearn.neural_network import MLPClassifier\n",
    "from sklearn.model_selection import train_test_split\n",
    "\n",
    "df = pd.read_csv('event.csv')\n",
    "column_names = list(df.columns)\n",
    "input_names = column_names[0:len(column_names)-1]\n",
    "target_name = column_names[len(column_names)-1]\n",
    "X = df[input_names]   # slice dataFrame to extract input variables\n",
    "y = df[target_name]   # slice dataFrame to extract target variable\n",
    "X_train, X_test, y_train, y_test = train_test_split(X, y, test_size=0.3, random_state=123)\n",
    "clf = clf = MLPClassifier(solver='lbfgs', alpha=1e-5, hidden_layer_sizes=(5, 2), random_state=1).fit(X_train, y_train)\n",
    "\n",
    "y_pred = clf.predict(X_test)\n",
    "# Let's examine one sample and the corresponding predictions\n",
    "print('----- Sample case -----')\n",
    "last_sample = X_test.loc[list(X_test.index)[-1]]\n",
    "print(last_sample)\n",
    "print('Predicted class:',y_pred[-1])\n",
    "print('Actual class:', y_test.loc[list(y_test.index)[-1]])\n",
    "print('-----------------------')\n",
    "\n",
    "\n",
    "print('Calculate the accuracy using the test data')\n",
    "print(\"Accuracy:\", metrics.accuracy_score(y_test, y_pred))"
   ]
  },
  {
   "cell_type": "code",
   "execution_count": null,
   "metadata": {},
   "outputs": [],
   "source": [
    "!pip install freegames"
   ]
  },
  {
   "cell_type": "code",
   "execution_count": null,
   "metadata": {},
   "outputs": [],
   "source": [
    "\"\"\"\n",
    "References:\n",
    "https://grantjenks.com/docs/freegames/simonsays.html\n",
    "\"\"\"\n",
    "\n",
    "from random import choice\n",
    "from time import sleep\n",
    "from turtle import *\n",
    "import random\n",
    "import time\n",
    "\n",
    "from freegames import floor, square, vector\n",
    "\n",
    "tiles = {\n",
    "    vector(-50, 200): ('red', 'dark red'),\n",
    "    vector(-50, -300): ('blue', 'dark blue'),\n",
    "    vector(-400, -50): ('green', 'dark green'),\n",
    "    vector(300, -50): ('yellow', 'khaki'),\n",
    "    vector(-50, -50): ('grey', 'black')\n",
    "}\n",
    "\n",
    "\n",
    "def grid():\n",
    "    \"\"\"Draw grid of tiles.\"\"\"\n",
    "    square(-50, 200, 100, 'dark red')\n",
    "    square(-50, -300, 100, 'dark blue')\n",
    "    square(-400, -50, 100, 'dark green')\n",
    "    square(300, -50, 100, 'khaki')\n",
    "    square(-50, -50, 100, 'black')\n",
    "    update()\n",
    "\n",
    "\n",
    "def flash(tile):\n",
    "    \"\"\"Flash tile in grid.\"\"\"\n",
    "    glow, dark = tiles[tile]\n",
    "    square(tile.x, tile.y, 100, glow)\n",
    "    update()\n",
    "    sleep(0.5)\n",
    "    square(tile.x, tile.y, 100, dark)\n",
    "    update()\n",
    "\n",
    "def correct(tile):\n",
    "  \"\"\"Flash small green box\"\"\"\n",
    "  glow, dark = tiles[tile]\n",
    "  square(tile.x + 25, tile.y + 25, 50, 'green')\n",
    "  update()\n",
    "  sleep(1)\n",
    "  square(tile.x + 25, tile.y, 50 + 25, dark)\n",
    "  update()\n",
    "\n",
    "def incorrect(tile):\n",
    "  \"\"\"Flash small red box\"\"\"\n",
    "  glow, dark = tiles[tile]\n",
    "  square(tile.x + 25, tile.y + 25, 50, 'red')\n",
    "  update()\n",
    "  sleep(1)\n",
    "  square(tile.x + 25, tile.y + 25, 50, dark)\n",
    "  update()\n",
    "\n",
    "\n",
    "def streaming_classifier():\n",
    "  # Stream and detect eye movement\n",
    "  eye_movement = \"up - down - left - right - or - blink\"\n",
    "  return eye_movement\n",
    "\n",
    "def start():\n",
    "  \"\"\"Start game.\"\"\"\n",
    "  reaction_times = []\n",
    "  print(\"Ready\")\n",
    "  sleep(1)\n",
    "  print(\"Set\")\n",
    "  sleep(1)\n",
    "  print(\"Go\")\n",
    "  sleep(1)\n",
    "  \n",
    "  while True:\n",
    "    new_tile = random.choice(list(tiles))\n",
    "    flash(new_tile)\n",
    "    start_time = time.time()\n",
    "    \n",
    "    is_correct = False\n",
    "    while is_correct == False:\n",
    "      eye_movement = str(input(\"Direction (Up, Down, Left Right or Blink): \")).upper() # Use streaming_classifier()\n",
    "      end_time = time.time()\n",
    "      \n",
    "      if eye_movement == \"UP\":\n",
    "         reacted_tile = vector(-50, 200)\n",
    "      elif eye_movement == \"DOWN\":\n",
    "        reacted_tile = vector(-50, -300)\n",
    "      elif eye_movement == \"LEFT\":\n",
    "        reacted_tile = vector(-400, -50)\n",
    "      elif eye_movement == \"RIGHT\":\n",
    "        reacted_tile = vector(300, -50)\n",
    "      elif eye_movement == \"BLINK\":\n",
    "        reacted_tile = vector(-50, -50)\n",
    "      elif eye_movement == \"END PROGRAM\":\n",
    "        average_reaction_time = sum(reaction_times) / len(reaction_times)\n",
    "        print(\"Average Reaction Time: {:.2f}s.\".format(average_reaction_time))\n",
    "        quit()\n",
    "      else:\n",
    "        print(\"No such eye movement.\")\n",
    "\n",
    "      end_time = time.time()  \n",
    "    \n",
    "      if reacted_tile == new_tile:\n",
    "        is_correct = True\n",
    "        correct(new_tile)\n",
    "        print(\"Correct tile.\")\n",
    "      # else:\n",
    "      #  incorrect(new_tile)\n",
    "      #  print(\"Incorrect tile: try again.\")\n",
    "      #  flash(new_tile)\n",
    "  \n",
    "    reaction_time = end_time - start_time\n",
    "    reaction_times.append(reaction_time)\n",
    "    print(\"Reaction time: {:.2f}s.\".format(reaction_time))\n",
    "    # print()\n",
    "    sleep(1)\n",
    "  \n",
    "setup(800, 600)\n",
    "hideturtle()\n",
    "tracer(False)\n",
    "grid()\n",
    "sleep(1)\n",
    "start()\n",
    "done()"
   ]
  },
  {
   "cell_type": "code",
   "execution_count": null,
   "metadata": {},
   "outputs": [],
   "source": []
  }
 ],
 "metadata": {
  "kernelspec": {
   "display_name": "Python 3",
   "language": "python",
   "name": "python3"
  },
  "language_info": {
   "codemirror_mode": {
    "name": "ipython",
    "version": 3
   },
   "file_extension": ".py",
   "mimetype": "text/x-python",
   "name": "python",
   "nbconvert_exporter": "python",
   "pygments_lexer": "ipython3",
   "version": "3.8.5"
  }
 },
 "nbformat": 4,
 "nbformat_minor": 4
}
